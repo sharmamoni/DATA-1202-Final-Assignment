{
 "cells": [
  {
   "cell_type": "markdown",
   "id": "219534aa",
   "metadata": {},
   "source": [
    "<div class=\"alert alert-block alert-info\" style=\"margin-top: 20px\">\n",
    "    <h1 align=center>Data 1202: Data Analytics Tools</h1>\n",
    "    <h1 align=center>Lab 6</h1>\n",
    "</div>"
   ]
  },
  {
   "cell_type": "markdown",
   "id": "019eb6ca",
   "metadata": {},
   "source": [
    "<h1>Introduction</h1>\n",
    "<h3>Welcome!</h3>\n",
    "\n",
    "<p>\n",
    "In this lab, you will practice using merge and join functions in Pandas. By the end, you will be familiar with different types of merges (inner, left, right, and outer) used to combine datasets effectively."
   ]
  },
  {
   "cell_type": "code",
   "execution_count": 1,
   "id": "df255e79-483a-489d-8dbe-65293e6a61a4",
   "metadata": {},
   "outputs": [],
   "source": [
    "# Explanation: (describe purpose of this line here)\n",
    "import pandas as pd"
   ]
  },
  {
   "cell_type": "markdown",
   "id": "dab75549",
   "metadata": {},
   "source": [
    "# Relationship types: \n",
    "<p> We can leverage relationships between data sources (datasets) to integrate them, creating a meaningful and comprehensive dataset that supports our analysis. Let's explore each one in detail: </p>"
   ]
  },
  {
   "cell_type": "markdown",
   "id": "5272b2b5-c7dc-4d30-a4fd-650c4d3e8471",
   "metadata": {},
   "source": [
    "## One to One relationships"
   ]
  },
  {
   "cell_type": "markdown",
   "id": "9af4843b-6203-45cd-885a-dcf1c724e7d8",
   "metadata": {},
   "source": [
    "<img src=\"data:image/png;base64,\n",
    "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\" alt=\"Description\" />\n"
   ]
  },
  {
   "cell_type": "markdown",
   "id": "7fcdb9e4-0e75-493c-af48-a84f294d3cca",
   "metadata": {},
   "source": [
    "One-To-One = Every row in the le table is related to only one row in the right table"
   ]
  },
  {
   "cell_type": "code",
   "execution_count": 49,
   "id": "c62ca2d0-2b1f-4464-9de3-a99360980f6c",
   "metadata": {},
   "outputs": [
    {
     "data": {
      "text/html": [
       "<div>\n",
       "<style scoped>\n",
       "    .dataframe tbody tr th:only-of-type {\n",
       "        vertical-align: middle;\n",
       "    }\n",
       "\n",
       "    .dataframe tbody tr th {\n",
       "        vertical-align: top;\n",
       "    }\n",
       "\n",
       "    .dataframe thead th {\n",
       "        text-align: right;\n",
       "    }\n",
       "</style>\n",
       "<table border=\"1\" class=\"dataframe\">\n",
       "  <thead>\n",
       "    <tr style=\"text-align: right;\">\n",
       "      <th></th>\n",
       "      <th>ward</th>\n",
       "      <th>alderman</th>\n",
       "      <th>address</th>\n",
       "      <th>zip</th>\n",
       "    </tr>\n",
       "  </thead>\n",
       "  <tbody>\n",
       "    <tr>\n",
       "      <th>0</th>\n",
       "      <td>1</td>\n",
       "      <td>Proco \"Joe\" Moreno</td>\n",
       "      <td>2058 NORTH WESTERN AVENUE</td>\n",
       "      <td>60647</td>\n",
       "    </tr>\n",
       "    <tr>\n",
       "      <th>1</th>\n",
       "      <td>2</td>\n",
       "      <td>Brian Hopkins</td>\n",
       "      <td>1400 NORTH  ASHLAND AVENUE</td>\n",
       "      <td>60622</td>\n",
       "    </tr>\n",
       "    <tr>\n",
       "      <th>2</th>\n",
       "      <td>3</td>\n",
       "      <td>Pat Dowell</td>\n",
       "      <td>5046 SOUTH STATE STREET</td>\n",
       "      <td>60609</td>\n",
       "    </tr>\n",
       "    <tr>\n",
       "      <th>3</th>\n",
       "      <td>4</td>\n",
       "      <td>William D. Burns</td>\n",
       "      <td>435 EAST 35TH STREET, 1ST FLOOR</td>\n",
       "      <td>60616</td>\n",
       "    </tr>\n",
       "    <tr>\n",
       "      <th>4</th>\n",
       "      <td>5</td>\n",
       "      <td>Leslie A. Hairston</td>\n",
       "      <td>2325 EAST 71ST STREET</td>\n",
       "      <td>60649</td>\n",
       "    </tr>\n",
       "  </tbody>\n",
       "</table>\n",
       "</div>"
      ],
      "text/plain": [
       "   ward            alderman                          address    zip\n",
       "0     1  Proco \"Joe\" Moreno        2058 NORTH WESTERN AVENUE  60647\n",
       "1     2       Brian Hopkins       1400 NORTH  ASHLAND AVENUE  60622\n",
       "2     3          Pat Dowell          5046 SOUTH STATE STREET  60609\n",
       "3     4    William D. Burns  435 EAST 35TH STREET, 1ST FLOOR  60616\n",
       "4     5  Leslie A. Hairston            2325 EAST 71ST STREET  60649"
      ]
     },
     "execution_count": 49,
     "metadata": {},
     "output_type": "execute_result"
    }
   ],
   "source": [
    "# Import pandas\n",
    "wards = pd.read_csv('wards.csv') \n",
    "# For quality and to ensure tha data is loaded\n",
    "wards.head() "
   ]
  },
  {
   "cell_type": "code",
   "execution_count": 51,
   "id": "6f201610-f498-4d55-a3bb-c4f1d5a7231b",
   "metadata": {},
   "outputs": [
    {
     "data": {
      "text/html": [
       "<div>\n",
       "<style scoped>\n",
       "    .dataframe tbody tr th:only-of-type {\n",
       "        vertical-align: middle;\n",
       "    }\n",
       "\n",
       "    .dataframe tbody tr th {\n",
       "        vertical-align: top;\n",
       "    }\n",
       "\n",
       "    .dataframe thead th {\n",
       "        text-align: right;\n",
       "    }\n",
       "</style>\n",
       "<table border=\"1\" class=\"dataframe\">\n",
       "  <thead>\n",
       "    <tr style=\"text-align: right;\">\n",
       "      <th></th>\n",
       "      <th>ward</th>\n",
       "      <th>pop_2000</th>\n",
       "      <th>pop_2010</th>\n",
       "      <th>change</th>\n",
       "      <th>address</th>\n",
       "      <th>zip</th>\n",
       "    </tr>\n",
       "  </thead>\n",
       "  <tbody>\n",
       "    <tr>\n",
       "      <th>0</th>\n",
       "      <td>1</td>\n",
       "      <td>52951</td>\n",
       "      <td>56149</td>\n",
       "      <td>6%</td>\n",
       "      <td>2765 WEST SAINT MARY STREET</td>\n",
       "      <td>60647</td>\n",
       "    </tr>\n",
       "    <tr>\n",
       "      <th>1</th>\n",
       "      <td>2</td>\n",
       "      <td>54361</td>\n",
       "      <td>55805</td>\n",
       "      <td>3%</td>\n",
       "      <td>WM WASTE MANAGEMENT 1500</td>\n",
       "      <td>60622</td>\n",
       "    </tr>\n",
       "    <tr>\n",
       "      <th>2</th>\n",
       "      <td>3</td>\n",
       "      <td>40385</td>\n",
       "      <td>53039</td>\n",
       "      <td>31%</td>\n",
       "      <td>17 EAST 38TH STREET</td>\n",
       "      <td>60653</td>\n",
       "    </tr>\n",
       "    <tr>\n",
       "      <th>3</th>\n",
       "      <td>4</td>\n",
       "      <td>51953</td>\n",
       "      <td>54589</td>\n",
       "      <td>5%</td>\n",
       "      <td>31ST ST HARBOR BUILDING LAKEFRONT TRAIL</td>\n",
       "      <td>60653</td>\n",
       "    </tr>\n",
       "    <tr>\n",
       "      <th>4</th>\n",
       "      <td>5</td>\n",
       "      <td>55302</td>\n",
       "      <td>51455</td>\n",
       "      <td>-7%</td>\n",
       "      <td>JACKSON PARK LAGOON SOUTH CORNELL DRIVE</td>\n",
       "      <td>60637</td>\n",
       "    </tr>\n",
       "  </tbody>\n",
       "</table>\n",
       "</div>"
      ],
      "text/plain": [
       "   ward  pop_2000  pop_2010 change                                  address  \\\n",
       "0     1     52951     56149     6%              2765 WEST SAINT MARY STREET   \n",
       "1     2     54361     55805     3%                 WM WASTE MANAGEMENT 1500   \n",
       "2     3     40385     53039    31%                      17 EAST 38TH STREET   \n",
       "3     4     51953     54589     5%  31ST ST HARBOR BUILDING LAKEFRONT TRAIL   \n",
       "4     5     55302     51455    -7%  JACKSON PARK LAGOON SOUTH CORNELL DRIVE   \n",
       "\n",
       "     zip  \n",
       "0  60647  \n",
       "1  60622  \n",
       "2  60653  \n",
       "3  60653  \n",
       "4  60637  "
      ]
     },
     "execution_count": 51,
     "metadata": {},
     "output_type": "execute_result"
    }
   ],
   "source": [
    "# Read the csv file\n",
    "census = pd.read_csv('Census.csv') \n",
    "# Ensure the data is loaded\n",
    "census.head()\n",
    " "
   ]
  },
  {
   "cell_type": "code",
   "execution_count": 53,
   "id": "4a0abad9-f322-4f92-96e1-ac79b4c5982d",
   "metadata": {},
   "outputs": [
    {
     "data": {
      "text/html": [
       "<div>\n",
       "<style scoped>\n",
       "    .dataframe tbody tr th:only-of-type {\n",
       "        vertical-align: middle;\n",
       "    }\n",
       "\n",
       "    .dataframe tbody tr th {\n",
       "        vertical-align: top;\n",
       "    }\n",
       "\n",
       "    .dataframe thead th {\n",
       "        text-align: right;\n",
       "    }\n",
       "</style>\n",
       "<table border=\"1\" class=\"dataframe\">\n",
       "  <thead>\n",
       "    <tr style=\"text-align: right;\">\n",
       "      <th></th>\n",
       "      <th>ward</th>\n",
       "      <th>alderman</th>\n",
       "      <th>address_x</th>\n",
       "      <th>zip_x</th>\n",
       "      <th>pop_2000</th>\n",
       "      <th>pop_2010</th>\n",
       "      <th>change</th>\n",
       "      <th>address_y</th>\n",
       "      <th>zip_y</th>\n",
       "    </tr>\n",
       "  </thead>\n",
       "  <tbody>\n",
       "    <tr>\n",
       "      <th>0</th>\n",
       "      <td>1</td>\n",
       "      <td>Proco \"Joe\" Moreno</td>\n",
       "      <td>2058 NORTH WESTERN AVENUE</td>\n",
       "      <td>60647</td>\n",
       "      <td>52951</td>\n",
       "      <td>56149</td>\n",
       "      <td>6%</td>\n",
       "      <td>2765 WEST SAINT MARY STREET</td>\n",
       "      <td>60647</td>\n",
       "    </tr>\n",
       "    <tr>\n",
       "      <th>1</th>\n",
       "      <td>2</td>\n",
       "      <td>Brian Hopkins</td>\n",
       "      <td>1400 NORTH  ASHLAND AVENUE</td>\n",
       "      <td>60622</td>\n",
       "      <td>54361</td>\n",
       "      <td>55805</td>\n",
       "      <td>3%</td>\n",
       "      <td>WM WASTE MANAGEMENT 1500</td>\n",
       "      <td>60622</td>\n",
       "    </tr>\n",
       "    <tr>\n",
       "      <th>2</th>\n",
       "      <td>3</td>\n",
       "      <td>Pat Dowell</td>\n",
       "      <td>5046 SOUTH STATE STREET</td>\n",
       "      <td>60609</td>\n",
       "      <td>40385</td>\n",
       "      <td>53039</td>\n",
       "      <td>31%</td>\n",
       "      <td>17 EAST 38TH STREET</td>\n",
       "      <td>60653</td>\n",
       "    </tr>\n",
       "    <tr>\n",
       "      <th>3</th>\n",
       "      <td>4</td>\n",
       "      <td>William D. Burns</td>\n",
       "      <td>435 EAST 35TH STREET, 1ST FLOOR</td>\n",
       "      <td>60616</td>\n",
       "      <td>51953</td>\n",
       "      <td>54589</td>\n",
       "      <td>5%</td>\n",
       "      <td>31ST ST HARBOR BUILDING LAKEFRONT TRAIL</td>\n",
       "      <td>60653</td>\n",
       "    </tr>\n",
       "  </tbody>\n",
       "</table>\n",
       "</div>"
      ],
      "text/plain": [
       "   ward            alderman                        address_x  zip_x  pop_2000  \\\n",
       "0     1  Proco \"Joe\" Moreno        2058 NORTH WESTERN AVENUE  60647     52951   \n",
       "1     2       Brian Hopkins       1400 NORTH  ASHLAND AVENUE  60622     54361   \n",
       "2     3          Pat Dowell          5046 SOUTH STATE STREET  60609     40385   \n",
       "3     4    William D. Burns  435 EAST 35TH STREET, 1ST FLOOR  60616     51953   \n",
       "\n",
       "   pop_2010 change                                address_y  zip_y  \n",
       "0     56149     6%              2765 WEST SAINT MARY STREET  60647  \n",
       "1     55805     3%                 WM WASTE MANAGEMENT 1500  60622  \n",
       "2     53039    31%                      17 EAST 38TH STREET  60653  \n",
       "3     54589     5%  31ST ST HARBOR BUILDING LAKEFRONT TRAIL  60653  "
      ]
     },
     "execution_count": 53,
     "metadata": {},
     "output_type": "execute_result"
    }
   ],
   "source": [
    "# Apply merge (one to one)\n",
    " wards_census = wards.merge(census, on='ward') \n",
    "# Ensure the merge is complete\n",
    "wards_census.head(4)"
   ]
  },
  {
   "cell_type": "code",
   "execution_count": 55,
   "id": "c3acdce2-b274-4ae6-bf63-0f75d1b9dfe3",
   "metadata": {},
   "outputs": [
    {
     "data": {
      "text/html": [
       "<div>\n",
       "<style scoped>\n",
       "    .dataframe tbody tr th:only-of-type {\n",
       "        vertical-align: middle;\n",
       "    }\n",
       "\n",
       "    .dataframe tbody tr th {\n",
       "        vertical-align: top;\n",
       "    }\n",
       "\n",
       "    .dataframe thead th {\n",
       "        text-align: right;\n",
       "    }\n",
       "</style>\n",
       "<table border=\"1\" class=\"dataframe\">\n",
       "  <thead>\n",
       "    <tr style=\"text-align: right;\">\n",
       "      <th></th>\n",
       "      <th>ward</th>\n",
       "      <th>alderman</th>\n",
       "      <th>address_ward</th>\n",
       "      <th>zip_ward</th>\n",
       "      <th>pop_2000</th>\n",
       "      <th>pop_2010</th>\n",
       "      <th>change</th>\n",
       "      <th>address_cen</th>\n",
       "      <th>zip_cen</th>\n",
       "    </tr>\n",
       "  </thead>\n",
       "  <tbody>\n",
       "    <tr>\n",
       "      <th>0</th>\n",
       "      <td>1</td>\n",
       "      <td>Proco \"Joe\" Moreno</td>\n",
       "      <td>2058 NORTH WESTERN AVENUE</td>\n",
       "      <td>60647</td>\n",
       "      <td>52951</td>\n",
       "      <td>56149</td>\n",
       "      <td>6%</td>\n",
       "      <td>2765 WEST SAINT MARY STREET</td>\n",
       "      <td>60647</td>\n",
       "    </tr>\n",
       "    <tr>\n",
       "      <th>1</th>\n",
       "      <td>2</td>\n",
       "      <td>Brian Hopkins</td>\n",
       "      <td>1400 NORTH  ASHLAND AVENUE</td>\n",
       "      <td>60622</td>\n",
       "      <td>54361</td>\n",
       "      <td>55805</td>\n",
       "      <td>3%</td>\n",
       "      <td>WM WASTE MANAGEMENT 1500</td>\n",
       "      <td>60622</td>\n",
       "    </tr>\n",
       "    <tr>\n",
       "      <th>2</th>\n",
       "      <td>3</td>\n",
       "      <td>Pat Dowell</td>\n",
       "      <td>5046 SOUTH STATE STREET</td>\n",
       "      <td>60609</td>\n",
       "      <td>40385</td>\n",
       "      <td>53039</td>\n",
       "      <td>31%</td>\n",
       "      <td>17 EAST 38TH STREET</td>\n",
       "      <td>60653</td>\n",
       "    </tr>\n",
       "    <tr>\n",
       "      <th>3</th>\n",
       "      <td>4</td>\n",
       "      <td>William D. Burns</td>\n",
       "      <td>435 EAST 35TH STREET, 1ST FLOOR</td>\n",
       "      <td>60616</td>\n",
       "      <td>51953</td>\n",
       "      <td>54589</td>\n",
       "      <td>5%</td>\n",
       "      <td>31ST ST HARBOR BUILDING LAKEFRONT TRAIL</td>\n",
       "      <td>60653</td>\n",
       "    </tr>\n",
       "    <tr>\n",
       "      <th>4</th>\n",
       "      <td>5</td>\n",
       "      <td>Leslie A. Hairston</td>\n",
       "      <td>2325 EAST 71ST STREET</td>\n",
       "      <td>60649</td>\n",
       "      <td>55302</td>\n",
       "      <td>51455</td>\n",
       "      <td>-7%</td>\n",
       "      <td>JACKSON PARK LAGOON SOUTH CORNELL DRIVE</td>\n",
       "      <td>60637</td>\n",
       "    </tr>\n",
       "  </tbody>\n",
       "</table>\n",
       "</div>"
      ],
      "text/plain": [
       "   ward            alderman                     address_ward  zip_ward  \\\n",
       "0     1  Proco \"Joe\" Moreno        2058 NORTH WESTERN AVENUE     60647   \n",
       "1     2       Brian Hopkins       1400 NORTH  ASHLAND AVENUE     60622   \n",
       "2     3          Pat Dowell          5046 SOUTH STATE STREET     60609   \n",
       "3     4    William D. Burns  435 EAST 35TH STREET, 1ST FLOOR     60616   \n",
       "4     5  Leslie A. Hairston            2325 EAST 71ST STREET     60649   \n",
       "\n",
       "   pop_2000  pop_2010 change                              address_cen  zip_cen  \n",
       "0     52951     56149     6%              2765 WEST SAINT MARY STREET    60647  \n",
       "1     54361     55805     3%                 WM WASTE MANAGEMENT 1500    60622  \n",
       "2     40385     53039    31%                      17 EAST 38TH STREET    60653  \n",
       "3     51953     54589     5%  31ST ST HARBOR BUILDING LAKEFRONT TRAIL    60653  \n",
       "4     55302     51455    -7%  JACKSON PARK LAGOON SOUTH CORNELL DRIVE    60637  "
      ]
     },
     "execution_count": 55,
     "metadata": {},
     "output_type": "execute_result"
    }
   ],
   "source": [
    "# Add suffixes to differentiate identical column names when they exist in both datasets.\n",
    " wards_census = wards.merge(census, on='ward', suffixes=('_ward','_cen')) \n",
    "# Ensure data is loaded\n",
    "wards_census.head()"
   ]
  },
  {
   "cell_type": "markdown",
   "id": "c711f9de-8459-4047-b269-c9f583d14a4f",
   "metadata": {},
   "source": [
    "## One to Many relationships"
   ]
  },
  {
   "cell_type": "markdown",
   "id": "fb1a72e9-19e8-472c-9b88-fd7103c68335",
   "metadata": {},
   "source": [
    "<img src=\"data:image/png;base64,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\" alt=\"Description\" />\n"
   ]
  },
  {
   "cell_type": "markdown",
   "id": "b8c7d87e-69ff-4950-aa40-1ca05a3dfa35",
   "metadata": {},
   "source": [
    " One-To-Many = Every row in left table is related to one or more rows in the right table"
   ]
  },
  {
   "cell_type": "code",
   "execution_count": 57,
   "id": "7bb8c61a-0d62-4487-aed4-7203f88c578c",
   "metadata": {
    "scrolled": true
   },
   "outputs": [
    {
     "data": {
      "text/html": [
       "<div>\n",
       "<style scoped>\n",
       "    .dataframe tbody tr th:only-of-type {\n",
       "        vertical-align: middle;\n",
       "    }\n",
       "\n",
       "    .dataframe tbody tr th {\n",
       "        vertical-align: top;\n",
       "    }\n",
       "\n",
       "    .dataframe thead th {\n",
       "        text-align: right;\n",
       "    }\n",
       "</style>\n",
       "<table border=\"1\" class=\"dataframe\">\n",
       "  <thead>\n",
       "    <tr style=\"text-align: right;\">\n",
       "      <th></th>\n",
       "      <th>ward</th>\n",
       "      <th>alderman</th>\n",
       "      <th>address_ward</th>\n",
       "      <th>zip_ward</th>\n",
       "      <th>Unnamed: 0</th>\n",
       "      <th>account</th>\n",
       "      <th>aid</th>\n",
       "      <th>business</th>\n",
       "      <th>address_lic</th>\n",
       "      <th>zip_lic</th>\n",
       "    </tr>\n",
       "  </thead>\n",
       "  <tbody>\n",
       "    <tr>\n",
       "      <th>0</th>\n",
       "      <td>1</td>\n",
       "      <td>Proco \"Joe\" Moreno</td>\n",
       "      <td>2058 NORTH WESTERN AVENUE</td>\n",
       "      <td>60647</td>\n",
       "      <td>143</td>\n",
       "      <td>12024</td>\n",
       "      <td>NaN</td>\n",
       "      <td>DIGILOG ELECTRONICS</td>\n",
       "      <td>1038 N ASHLAND AVE</td>\n",
       "      <td>60622.0</td>\n",
       "    </tr>\n",
       "    <tr>\n",
       "      <th>1</th>\n",
       "      <td>1</td>\n",
       "      <td>Proco \"Joe\" Moreno</td>\n",
       "      <td>2058 NORTH WESTERN AVENUE</td>\n",
       "      <td>60647</td>\n",
       "      <td>208</td>\n",
       "      <td>14446</td>\n",
       "      <td>743</td>\n",
       "      <td>EMPTY BOTTLE INC</td>\n",
       "      <td>1035 N WESTERN AVE 1ST</td>\n",
       "      <td>60622.0</td>\n",
       "    </tr>\n",
       "    <tr>\n",
       "      <th>2</th>\n",
       "      <td>1</td>\n",
       "      <td>Proco \"Joe\" Moreno</td>\n",
       "      <td>2058 NORTH WESTERN AVENUE</td>\n",
       "      <td>60647</td>\n",
       "      <td>234</td>\n",
       "      <td>14624</td>\n",
       "      <td>775</td>\n",
       "      <td>LITTLE MEL'S HOT DOG</td>\n",
       "      <td>2205 N CALIFORNIA AVE</td>\n",
       "      <td>60647.0</td>\n",
       "    </tr>\n",
       "    <tr>\n",
       "      <th>3</th>\n",
       "      <td>1</td>\n",
       "      <td>Proco \"Joe\" Moreno</td>\n",
       "      <td>2058 NORTH WESTERN AVENUE</td>\n",
       "      <td>60647</td>\n",
       "      <td>270</td>\n",
       "      <td>14987</td>\n",
       "      <td>NaN</td>\n",
       "      <td>MR. BROWN'S LOUNGE</td>\n",
       "      <td>2301 W CHICAGO AVE 1ST</td>\n",
       "      <td>60622.0</td>\n",
       "    </tr>\n",
       "    <tr>\n",
       "      <th>4</th>\n",
       "      <td>1</td>\n",
       "      <td>Proco \"Joe\" Moreno</td>\n",
       "      <td>2058 NORTH WESTERN AVENUE</td>\n",
       "      <td>60647</td>\n",
       "      <td>326</td>\n",
       "      <td>15642</td>\n",
       "      <td>814</td>\n",
       "      <td>Beat Kitchen</td>\n",
       "      <td>2000-2100 W DIVISION ST</td>\n",
       "      <td>60622.0</td>\n",
       "    </tr>\n",
       "  </tbody>\n",
       "</table>\n",
       "</div>"
      ],
      "text/plain": [
       "   ward            alderman               address_ward  zip_ward  Unnamed: 0  \\\n",
       "0     1  Proco \"Joe\" Moreno  2058 NORTH WESTERN AVENUE     60647         143   \n",
       "1     1  Proco \"Joe\" Moreno  2058 NORTH WESTERN AVENUE     60647         208   \n",
       "2     1  Proco \"Joe\" Moreno  2058 NORTH WESTERN AVENUE     60647         234   \n",
       "3     1  Proco \"Joe\" Moreno  2058 NORTH WESTERN AVENUE     60647         270   \n",
       "4     1  Proco \"Joe\" Moreno  2058 NORTH WESTERN AVENUE     60647         326   \n",
       "\n",
       "   account  aid              business              address_lic  zip_lic  \n",
       "0    12024  NaN   DIGILOG ELECTRONICS       1038 N ASHLAND AVE  60622.0  \n",
       "1    14446  743      EMPTY BOTTLE INC   1035 N WESTERN AVE 1ST  60622.0  \n",
       "2    14624  775  LITTLE MEL'S HOT DOG    2205 N CALIFORNIA AVE  60647.0  \n",
       "3    14987  NaN    MR. BROWN'S LOUNGE   2301 W CHICAGO AVE 1ST  60622.0  \n",
       "4    15642  814          Beat Kitchen  2000-2100 W DIVISION ST  60622.0  "
      ]
     },
     "execution_count": 57,
     "metadata": {},
     "output_type": "execute_result"
    }
   ],
   "source": [
    "# Load the data\n",
    "licenses = pd.read_csv('licenses.csv') \n",
    "# Apply merge\n",
    "ward_licenses = wards.merge(licenses, on='ward', suffixes=('_ward','_lic')) \n",
    "# Explanation: (describe purpose of this line here)\n",
    "ward_licenses.head()"
   ]
  },
  {
   "cell_type": "markdown",
   "id": "2f5237ed-d705-4ada-bd23-9a02b1e0eb6b",
   "metadata": {},
   "source": [
    "# Merging multiple tables"
   ]
  },
  {
   "cell_type": "markdown",
   "id": "2670b0f3-28e0-47b0-93a9-38bd707efbde",
   "metadata": {},
   "source": [
    "<img src=\"data:image/png;base64,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\n",
    "\" alt=\"Description\" />\n"
   ]
  },
  {
   "cell_type": "markdown",
   "id": "c65607a7",
   "metadata": {},
   "source": [
    "### Three tables:\n",
    "df1.merge(df2, on='col') \\\n",
    ".merge(df3, on='col')"
   ]
  },
  {
   "cell_type": "markdown",
   "id": "bc078fd9",
   "metadata": {},
   "source": [
    "### Four tables:\n",
    "df1.merge(df2, on='col') \\\n",
    ".merge(df3, on='col') \\\n",
    ".merge(df4, on='col')"
   ]
  },
  {
   "cell_type": "markdown",
   "id": "72d0fb13",
   "metadata": {},
   "source": [
    "# Practice in your own:"
   ]
  },
  {
   "cell_type": "markdown",
   "id": "3a3c7966",
   "metadata": {},
   "source": [
    "<div class=\"alert alert-danger alertdanger\" style=\"margin-top: 20px\">\n",
    "<h1>Question #1:</h1>\n",
    "<b>\n",
    "Q1 The Movie Database is supported by volunteers going out into the world, collecting data, and\n",
    "entering it into the database. This includes financial data, such as movie budget and revenue. If you\n",
    "wanted to know which movies are still missing data, you could use a left join to identify them.\n",
    "Practice using a left join by merging the movies table and the financials table. Count the missing rows with left join.</b>\n",
    "</div>\n"
   ]
  },
  {
   "cell_type": "code",
   "execution_count": null,
   "id": "63b2ff1e",
   "metadata": {},
   "outputs": [],
   "source": [
    "# Merge movies and financials with a left join\n",
    "movies_financials = movies.merge(financials, on='id', how='left')\n",
    "# Count the number of rows in the budget column that are missing\n",
    "number_of_missing_fin = movies_financials['budget'].isnull().sum()"
   ]
  },
  {
   "cell_type": "markdown",
   "id": "c304df40",
   "metadata": {},
   "source": [
    "<div class=\"alert alert-danger alertdanger\" style=\"margin-top: 20px\">\n",
    "<h1>Question #2:</h1>\n",
    "<b>\n",
    "Setting how=‘left’ with the .merge()method is a useful technique for enriching or enhancing a\n",
    "dataset with additional information from a different table. In this exercise, you will start off with a\n",
    "sample of movie data from the movie series Toy Story. Your goal is to enrich this data by adding\n",
    "the marketing tag line for each movie. You have to compare the results of a left join versus an inner\n",
    "join.</b>\n",
    "</div>\n"
   ]
  },
  {
   "cell_type": "markdown",
   "id": "d25a97c5",
   "metadata": {},
   "source": [
    "<div class=\"alert alert-danger alertdanger\" style=\"margin-top: 20px\">\n",
    "<h1>Question #3:</h1>\n",
    "<b>\n",
    " Find which movies are considered only science fiction movies.\n",
    "Once you have this table, you can merge the movies table in to see the movie names.</b>\n",
    "</div>\n"
   ]
  },
  {
   "cell_type": "markdown",
   "id": "1845c43d",
   "metadata": {},
   "source": [
    "<div class=\"alert alert-danger alertdanger\" style=\"margin-top: 20px\">\n",
    "<h1>Question #4:</h1>\n",
    "<b>\n",
    " An outer join returns all rows from both merged tables and null where they do not match, you can use it to find rows that do not have a match in the other table. To try for yourself, you have been given two tables with a list of actors from two popular movies: Iron Man 1 and Iron Man 2. Most of the actors played in both movies. Use an outer join to\n",
    "find actors who did not act in both movies.</b>\n",
    "</div>\n"
   ]
  },
  {
   "cell_type": "code",
   "execution_count": null,
   "id": "5d8c33ed",
   "metadata": {},
   "outputs": [],
   "source": [
    "Solution:\n",
    "# Load data:\n",
    "iron_1_actors = pd.read_csv('iron_1_actors')\n",
    "iron_1_actors = pd.read_csv('iron_2_actors')\n",
    "# Merge iron_1_actors to iron_2_actors on id with outer join using suffixes\n",
    "iron_1_and_2 = iron_1_actors.merge(iron_2_actors, on='id', how='outer', suffixes=('_1','_2')\n",
    " # Create an index that returns true if name_1 or name_2 are null\n",
    "m = ((iron_1_and_2['name_1'].isnull()) | (iron_1_and_2['name_2'].isnull()))                          "
   ]
  }
 ],
 "metadata": {
  "kernelspec": {
   "display_name": "Python 3 (ipykernel)",
   "language": "python",
   "name": "python3"
  },
  "language_info": {
   "codemirror_mode": {
    "name": "ipython",
    "version": 3
   },
   "file_extension": ".py",
   "mimetype": "text/x-python",
   "name": "python",
   "nbconvert_exporter": "python",
   "pygments_lexer": "ipython3",
   "version": "3.9.7"
  }
 },
 "nbformat": 4,
 "nbformat_minor": 5
}
